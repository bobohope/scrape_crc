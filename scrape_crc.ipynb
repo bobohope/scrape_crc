{
 "cells": [
  {
   "cell_type": "code",
   "execution_count": 4,
   "metadata": {
    "collapsed": false
   },
   "outputs": [
    {
     "name": "stdout",
     "output_type": "stream",
     "text": [
      "Collecting requests\n",
      "  Using cached requests-2.18.4-py2.py3-none-any.whl\n",
      "Collecting chardet<3.1.0,>=3.0.2 (from requests)\n",
      "  Using cached chardet-3.0.4-py2.py3-none-any.whl\n",
      "Collecting idna<2.7,>=2.5 (from requests)\n",
      "  Using cached idna-2.6-py2.py3-none-any.whl\n",
      "Collecting urllib3<1.23,>=1.21.1 (from requests)\n",
      "  Using cached urllib3-1.22-py2.py3-none-any.whl\n",
      "Collecting certifi>=2017.4.17 (from requests)\n",
      "  Using cached certifi-2017.7.27.1-py2.py3-none-any.whl\n",
      "Installing collected packages: chardet, idna, urllib3, certifi, requests\n",
      "  Found existing installation: certifi 2016.2.28\n",
      "    Uninstalling certifi-2016.2.28:\n",
      "      Successfully uninstalled certifi-2016.2.28\n",
      "Successfully installed certifi-2017.7.27.1 chardet-3.0.4 idna-2.6 requests-2.18.4 urllib3-1.22\n"
     ]
    }
   ],
   "source": [
    "!pip install requests"
   ]
  },
  {
   "cell_type": "code",
   "execution_count": 5,
   "metadata": {
    "collapsed": false
   },
   "outputs": [],
   "source": [
    "from bs4 import BeautifulSoup\n",
    "import requests\n",
    "from datetime import datetime\n",
    "import re\n",
    "import time"
   ]
  },
  {
   "cell_type": "code",
   "execution_count": 22,
   "metadata": {
    "collapsed": false
   },
   "outputs": [
    {
     "name": "stdout",
     "output_type": "stream",
     "text": [
      "name:  Jacques Albert\n",
      "chair_title:  Canada Research Chair in Advanced Photonic Components\n",
      "tier:  Tier 1\n",
      "university:  Carleton University\n",
      "phone:  613-250-2600 ext./poste 5578\n",
      "email:  jalbert@doe.carleton.ca\n",
      "website:  http://www.doe.carleton.ca/~jalbert/\n",
      "research_involve:  Designing, fabricating, and testing photonic components that have been fabricated by laser light processing of high-performance optical materials.\n",
      "research_relavant:  The research will contribute to the competitiveness of the Canadian optics industry by providing new directions for photonic device research with a focus on reliability and manufacturability.\n",
      "story_title:  Using Laser Light to Create Optical Components\n",
      "story:  \n",
      "Using Laser Light to Create Optical Components\n",
      "\n",
      "\r\n",
      "                        \r\n",
      "                        The optical transport, distribution, and manipulation of information permeate the economic and social fabric of our world. Clearly, the optical industry is here to stay and grow, requiring ever-increasing numbers of highly qualified engineers and scientists in photonics.  At the same time, the Canadian optics industrial sector faces worldwide competition that is fiercer than ever, and the next generation of optical devices and processes must be even more efficient, less expensive, and more powerful.  Both glass and plastics are used in the optical industry. Components made of glass have penetrated the markets for optical devices. Highly transparent and very easily matched to optical fibres (also made of glass), they are also inherently very stable and immune to environmental degradation. Organic materials (plastics) are also finding niche applications for certain optical processes and will certainly gain importance in the future.  The research activity of Dr. Jacques Albert, Canada Research Chair in Advanced Photonic Components, is concentrated on the use of laser light to process glass and organic waveguide materials. (Most materials in which light waveguides are fabricated can be permanently modified when subjected to intense laser irradiation.) His goal is to fabricate novel devices for routing and coding optical signals. He and his team are creating complex structures, such as filters and couplers, in basic optical waveguides, which provide greater functionality and market value while preserving low fabrication costs. The devices are being submitted to rigorous environmental testing to ensure their reliability and conformity to international standards.  To fabricate these complex devices, Dr. Albert and a team of researchers have put together a versatile laser processing laboratory, which will become a training ground for experts in photonics and provide Canadian industry with new processes and devices for the next generations of optical systems.\r\n",
      "                    \r\n",
      "\n",
      "['Jacques Albert', 'Canada Research Chair in Advanced Photonic Components', 'Tier 1', 'Carleton University', '613-250-2600 ext./poste 5578', 'jalbert@doe.carleton.ca', 'http://www.doe.carleton.ca/~jalbert/', 'Designing, fabricating, and testing photonic components that have been fabricated by laser light processing of high-performance optical materials.', 'The research will contribute to the competitiveness of the Canadian optics industry by providing new directions for photonic device research with a focus on reliability and manufacturability.', 'Using Laser Light to Create Optical Components', '\\nUsing Laser Light to Create Optical Components\\n\\n\\r\\n                        \\r\\n                        The optical transport, distribution, and manipulation of information permeate the economic and social fabric of our world. Clearly, the optical industry is here to stay and grow, requiring ever-increasing numbers of highly qualified engineers and scientists in photonics.  At the same time, the Canadian optics industrial sector faces worldwide competition that is fiercer than ever, and the next generation of optical devices and processes must be even more efficient, less expensive, and more powerful.  Both glass and plastics are used in the optical industry. Components made of glass have penetrated the markets for optical devices. Highly transparent and very easily matched to optical fibres (also made of glass), they are also inherently very stable and immune to environmental degradation. Organic materials (plastics) are also finding niche applications for certain optical processes and will certainly gain importance in the future.  The research activity of Dr. Jacques Albert, Canada Research Chair in Advanced Photonic Components, is concentrated on the use of laser light to process glass and organic waveguide materials. (Most materials in which light waveguides are fabricated can be permanently modified when subjected to intense laser irradiation.) His goal is to fabricate novel devices for routing and coding optical signals. He and his team are creating complex structures, such as filters and couplers, in basic optical waveguides, which provide greater functionality and market value while preserving low fabrication costs. The devices are being submitted to rigorous environmental testing to ensure their reliability and conformity to international standards.  To fabricate these complex devices, Dr. Albert and a team of researchers have put together a versatile laser processing laboratory, which will become a training ground for experts in photonics and provide Canadian industry with new processes and devices for the next generations of optical systems.\\r\\n                    \\r\\n']\n"
     ]
    }
   ],
   "source": [
    "url_base = 'http://www.chairs-chaires.gc.ca/chairholders-titulaires/profile-eng.aspx?profileId='\n",
    "start_scraping(url_base+str(1070))"
   ]
  },
  {
   "cell_type": "markdown",
   "metadata": {},
   "source": [
    "# This function is to scrape a single page\n",
    "Input:  URL\n",
    "Output: an list(ordered) index starting from 0 having structure below\n",
    "0,1,2,3,4,5,6,7,8,9,10,11\n",
    "Name, Chair_title, Tier, University, phonenum, email, website, research_involve, research_relavant, story_title, story_content"
   ]
  },
  {
   "cell_type": "code",
   "execution_count": 20,
   "metadata": {
    "collapsed": false
   },
   "outputs": [],
   "source": [
    "def start_scraping(string):\n",
    "    #start a session (if you have no idea what is a session, google plz)\n",
    "    s = requests.session()\n",
    "    #get the page\n",
    "    rq= s.get(string)\n",
    "    url = []\n",
    "    soup = ''\n",
    "    output=[None]*11\n",
    "    all_content=[]\n",
    "    soup = BeautifulSoup(rq.text,'html.parser')\n",
    "    #print html file for debug only\n",
    "    #print(soup.prettify())\n",
    "    \n",
    "    #get name\n",
    "    #<h1 id=\"ContentPlaceHolderCenter_H1\" class=\"border-bottom-none\">Jacques Albert</h1>\n",
    "    name = soup.find('h1').text\n",
    "    output[0]=name\n",
    "    print('name: ',name)\n",
    "    #TODO:parse the full name into lastname and first name\n",
    "    #\n",
    "    #\n",
    "    #get chair title\n",
    "    #<span id=\"ContentPlaceHolderCenter_FormView1_ChairTitleLabel\" class=\"bold\">Canada Research Chair in Advanced Photonic Components</span>\n",
    "    chair_title = soup.find('span',id=\"ContentPlaceHolderCenter_FormView1_ChairTitleLabel\").text\n",
    "    output[1]=chair_title\n",
    "    print('chair_title: ',chair_title)\n",
    "    \n",
    "    #get Tier\n",
    "    #<span id=\"ContentPlaceHolderCenter_FormView1_TierLabel\">Tier 1</span>\n",
    "    tier=soup.find('span',id=\"ContentPlaceHolderCenter_FormView1_TierLabel\").text\n",
    "    output[2]=tier\n",
    "    print('tier: ',tier)\n",
    "    \n",
    "    #get University\n",
    "    #<span id=\"ContentPlaceHolderCenter_FormView1_universityLabel\">Carleton University</span>\n",
    "    university=soup.find('span',id=\"ContentPlaceHolderCenter_FormView1_universityLabel\").text\n",
    "    output[3]=university\n",
    "    print('university: ',university)\n",
    "    \n",
    "    #get phone number\n",
    "    #<span id=\"ContentPlaceHolderCenter_FormView1_ContactNumberLabel\">613-250-2600 ext./poste 5578</span>\n",
    "    phone_num=soup.find('span',id=\"ContentPlaceHolderCenter_FormView1_ContactNumberLabel\").text\n",
    "    output[4]=phone_num\n",
    "    print('phone: ',phone_num)\n",
    "    \n",
    "    #get email address\n",
    "    #<a id=\"ContentPlaceHolderCenter_FormView1_HyperLink1\" href=\"mailto:jalbert@doe.carleton.ca\" class=\"ui-link\">jalbert@doe.carleton.ca</a>\n",
    "    email=soup.find('a',id=\"ContentPlaceHolderCenter_FormView1_HyperLink1\").text\n",
    "    output[5]=email\n",
    "    print('email: ',email)\n",
    "    \n",
    "    #get website\n",
    "    #<a id=\"ContentPlaceHolderCenter_FormView1_ChairUrlLink\" title=\"http://www.doe.carleton.ca/~jalbert/\" href=\"http://www.doe.carleton.ca/~jalbert/\" class=\"ui-link\">Website</a>\n",
    "    website=soup.find('a',id=\"ContentPlaceHolderCenter_FormView1_ChairUrlLink\")['href']\n",
    "    output[6]=website\n",
    "    print('website: ',website)\n",
    "    #get research_involve\n",
    "    #<span id=\"ContentPlaceHolderCenter_FormView1_ResearchInvolvesLabel\">Designing, fabricating, and testing photonic components that have been fabricated by laser light processing of high-performance optical materials.</span>\n",
    "    research_involve=soup.find('span',id=\"ContentPlaceHolderCenter_FormView1_ResearchInvolvesLabel\").text\n",
    "    output[7]=research_involve\n",
    "    print('research_involve: ',research_involve)\n",
    "    \n",
    "    #get research_relavant\n",
    "    #<span id=\"ContentPlaceHolderCenter_FormView1_ResearchRelevanceLabel\">The research will contribute to the competitiveness of the Canadian optics industry by providing new directions for photonic device research with a focus on reliability and manufacturability.</span>\n",
    "    research_relavant=soup.find('span',id=\"ContentPlaceHolderCenter_FormView1_ResearchRelevanceLabel\").text\n",
    "    output[8]=research_relavant\n",
    "    print('research_relavant: ',research_relavant)\n",
    "    \n",
    "    #get story_title\n",
    "    #<span id=\"ContentPlaceHolderCenter_FormView1_StoryTitleLabel\">Using Laser Light to Create Optical Components</span>\n",
    "    story_title=soup.find('span',id=\"ContentPlaceHolderCenter_FormView1_StoryTitleLabel\").text\n",
    "    output[9]=story_title\n",
    "    print('story_title: ',story_title)\n",
    "    #get story_content\n",
    "# <div id=\"ContentPlaceHolderCenter_FormView1_PanelStory\" class=\"padding-medium padding-top-none\">\n",
    "#                         <h4 class=\"margin-top-medium border-bottom-none\"><span id=\"ContentPlaceHolderCenter_FormView1_StoryTitleLabel\">Using Laser Light to Create Optical Components</span></h4>\n",
    "#                         <!-- <br /> -->\n",
    "#                         <hr class=\"dotted-red\">\n",
    "                        \n",
    "#                         The optical transport, distribution, and manipulation of information permeate the economic and social fabric of our world. Clearly, the optical industry is here to stay and grow, requiring ever-increasing numbers of highly qualified engineers and scientists in photonics.  At the same time, the Canadian optics industrial sector faces worldwide competition that is fiercer than ever, and the next generation of optical devices and processes must be even more efficient, less expensive, and more powerful.  <br><br>Both glass and plastics are used in the optical industry. Components made of glass have penetrated the markets for optical devices. Highly transparent and very easily matched to optical fibres (also made of glass), they are also inherently very stable and immune to environmental degradation. Organic materials (plastics) are also finding niche applications for certain optical processes and will certainly gain importance in the future.  <br><br>The research activity of Dr. Jacques Albert, Canada Research Chair in Advanced Photonic Components, is concentrated on the use of laser light to process glass and organic waveguide materials. (Most materials in which light waveguides are fabricated can be permanently modified when subjected to intense laser irradiation.) His goal is to fabricate novel devices for routing and coding optical signals. He and his team are creating complex structures, such as filters and couplers, in basic optical waveguides, which provide greater functionality and market value while preserving low fabrication costs. The devices are being submitted to rigorous environmental testing to ensure their reliability and conformity to international standards. <br><br> To fabricate these complex devices, Dr. Albert and a team of researchers have put together a versatile laser processing laboratory, which will become a training ground for experts in photonics and provide Canadian industry with new processes and devices for the next generations of optical systems.\n",
    "                    \n",
    "# </div>\n",
    "    story=soup.find('div',id=\"ContentPlaceHolderCenter_FormView1_PanelStory\").text\n",
    "    output[10]=story\n",
    "    print('story: ',story)\n",
    "    \n",
    "    #print everything\n",
    "    print(output)"
   ]
  },
  {
   "cell_type": "code",
   "execution_count": null,
   "metadata": {
    "collapsed": true
   },
   "outputs": [],
   "source": []
  }
 ],
 "metadata": {
  "anaconda-cloud": {},
  "kernelspec": {
   "display_name": "Python [conda env:wcd-bd]",
   "language": "python",
   "name": "conda-env-wcd-bd-py"
  },
  "language_info": {
   "codemirror_mode": {
    "name": "ipython",
    "version": 3
   },
   "file_extension": ".py",
   "mimetype": "text/x-python",
   "name": "python",
   "nbconvert_exporter": "python",
   "pygments_lexer": "ipython3",
   "version": "3.5.4"
  }
 },
 "nbformat": 4,
 "nbformat_minor": 1
}
